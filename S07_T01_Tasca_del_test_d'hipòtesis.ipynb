{
  "nbformat": 4,
  "nbformat_minor": 0,
  "metadata": {
    "colab": {
      "name": "S07 T01: Tasca del test d'hipòtesis",
      "provenance": [],
      "collapsed_sections": []
    },
    "kernelspec": {
      "name": "python3",
      "display_name": "Python 3"
    },
    "language_info": {
      "name": "python"
    }
  },
  "cells": [
    {
      "cell_type": "code",
      "source": [
        "from google.colab import drive\n",
        "import pandas as pd\n",
        "import numpy as np\n",
        "import matplotlib.pyplot as plt\n",
        "import seaborn as sns"
      ],
      "metadata": {
        "id": "Bd4wVCrEcWnS"
      },
      "execution_count": null,
      "outputs": []
    },
    {
      "cell_type": "code",
      "execution_count": null,
      "metadata": {
        "colab": {
          "base_uri": "https://localhost:8080/",
          "height": 424
        },
        "id": "et5b4piZCLeA",
        "outputId": "a17815d1-6ed4-4b0f-8389-539ae56e7900"
      },
      "outputs": [
        {
          "output_type": "stream",
          "name": "stdout",
          "text": [
            "Drive already mounted at /content/drive; to attempt to forcibly remount, call drive.mount(\"/content/drive\", force_remount=True).\n",
            "/content/drive/MyDrive\n"
          ]
        },
        {
          "output_type": "execute_result",
          "data": {
            "text/plain": [
              "   ID                      Name Sex   Age  Height  Weight            Team  \\\n",
              "0   1                 A Dijiang   M  24.0   180.0    80.0           China   \n",
              "1   2                  A Lamusi   M  23.0   170.0    60.0           China   \n",
              "2   3       Gunnar Nielsen Aaby   M  24.0     NaN     NaN         Denmark   \n",
              "3   4      Edgar Lindenau Aabye   M  34.0     NaN     NaN  Denmark/Sweden   \n",
              "4   5  Christine Jacoba Aaftink   F  21.0   185.0    82.0     Netherlands   \n",
              "\n",
              "   NOC        Games  Year  Season       City          Sport  \\\n",
              "0  CHN  1992 Summer  1992  Summer  Barcelona     Basketball   \n",
              "1  CHN  2012 Summer  2012  Summer     London           Judo   \n",
              "2  DEN  1920 Summer  1920  Summer  Antwerpen       Football   \n",
              "3  DEN  1900 Summer  1900  Summer      Paris     Tug-Of-War   \n",
              "4  NED  1988 Winter  1988  Winter    Calgary  Speed Skating   \n",
              "\n",
              "                              Event Medal  \n",
              "0       Basketball Men's Basketball   NaN  \n",
              "1      Judo Men's Extra-Lightweight   NaN  \n",
              "2           Football Men's Football   NaN  \n",
              "3       Tug-Of-War Men's Tug-Of-War  Gold  \n",
              "4  Speed Skating Women's 500 metres   NaN  "
            ],
            "text/html": [
              "\n",
              "  <div id=\"df-7884e5b9-270f-4722-98d2-928666f3a6c0\">\n",
              "    <div class=\"colab-df-container\">\n",
              "      <div>\n",
              "<style scoped>\n",
              "    .dataframe tbody tr th:only-of-type {\n",
              "        vertical-align: middle;\n",
              "    }\n",
              "\n",
              "    .dataframe tbody tr th {\n",
              "        vertical-align: top;\n",
              "    }\n",
              "\n",
              "    .dataframe thead th {\n",
              "        text-align: right;\n",
              "    }\n",
              "</style>\n",
              "<table border=\"1\" class=\"dataframe\">\n",
              "  <thead>\n",
              "    <tr style=\"text-align: right;\">\n",
              "      <th></th>\n",
              "      <th>ID</th>\n",
              "      <th>Name</th>\n",
              "      <th>Sex</th>\n",
              "      <th>Age</th>\n",
              "      <th>Height</th>\n",
              "      <th>Weight</th>\n",
              "      <th>Team</th>\n",
              "      <th>NOC</th>\n",
              "      <th>Games</th>\n",
              "      <th>Year</th>\n",
              "      <th>Season</th>\n",
              "      <th>City</th>\n",
              "      <th>Sport</th>\n",
              "      <th>Event</th>\n",
              "      <th>Medal</th>\n",
              "    </tr>\n",
              "  </thead>\n",
              "  <tbody>\n",
              "    <tr>\n",
              "      <th>0</th>\n",
              "      <td>1</td>\n",
              "      <td>A Dijiang</td>\n",
              "      <td>M</td>\n",
              "      <td>24.0</td>\n",
              "      <td>180.0</td>\n",
              "      <td>80.0</td>\n",
              "      <td>China</td>\n",
              "      <td>CHN</td>\n",
              "      <td>1992 Summer</td>\n",
              "      <td>1992</td>\n",
              "      <td>Summer</td>\n",
              "      <td>Barcelona</td>\n",
              "      <td>Basketball</td>\n",
              "      <td>Basketball Men's Basketball</td>\n",
              "      <td>NaN</td>\n",
              "    </tr>\n",
              "    <tr>\n",
              "      <th>1</th>\n",
              "      <td>2</td>\n",
              "      <td>A Lamusi</td>\n",
              "      <td>M</td>\n",
              "      <td>23.0</td>\n",
              "      <td>170.0</td>\n",
              "      <td>60.0</td>\n",
              "      <td>China</td>\n",
              "      <td>CHN</td>\n",
              "      <td>2012 Summer</td>\n",
              "      <td>2012</td>\n",
              "      <td>Summer</td>\n",
              "      <td>London</td>\n",
              "      <td>Judo</td>\n",
              "      <td>Judo Men's Extra-Lightweight</td>\n",
              "      <td>NaN</td>\n",
              "    </tr>\n",
              "    <tr>\n",
              "      <th>2</th>\n",
              "      <td>3</td>\n",
              "      <td>Gunnar Nielsen Aaby</td>\n",
              "      <td>M</td>\n",
              "      <td>24.0</td>\n",
              "      <td>NaN</td>\n",
              "      <td>NaN</td>\n",
              "      <td>Denmark</td>\n",
              "      <td>DEN</td>\n",
              "      <td>1920 Summer</td>\n",
              "      <td>1920</td>\n",
              "      <td>Summer</td>\n",
              "      <td>Antwerpen</td>\n",
              "      <td>Football</td>\n",
              "      <td>Football Men's Football</td>\n",
              "      <td>NaN</td>\n",
              "    </tr>\n",
              "    <tr>\n",
              "      <th>3</th>\n",
              "      <td>4</td>\n",
              "      <td>Edgar Lindenau Aabye</td>\n",
              "      <td>M</td>\n",
              "      <td>34.0</td>\n",
              "      <td>NaN</td>\n",
              "      <td>NaN</td>\n",
              "      <td>Denmark/Sweden</td>\n",
              "      <td>DEN</td>\n",
              "      <td>1900 Summer</td>\n",
              "      <td>1900</td>\n",
              "      <td>Summer</td>\n",
              "      <td>Paris</td>\n",
              "      <td>Tug-Of-War</td>\n",
              "      <td>Tug-Of-War Men's Tug-Of-War</td>\n",
              "      <td>Gold</td>\n",
              "    </tr>\n",
              "    <tr>\n",
              "      <th>4</th>\n",
              "      <td>5</td>\n",
              "      <td>Christine Jacoba Aaftink</td>\n",
              "      <td>F</td>\n",
              "      <td>21.0</td>\n",
              "      <td>185.0</td>\n",
              "      <td>82.0</td>\n",
              "      <td>Netherlands</td>\n",
              "      <td>NED</td>\n",
              "      <td>1988 Winter</td>\n",
              "      <td>1988</td>\n",
              "      <td>Winter</td>\n",
              "      <td>Calgary</td>\n",
              "      <td>Speed Skating</td>\n",
              "      <td>Speed Skating Women's 500 metres</td>\n",
              "      <td>NaN</td>\n",
              "    </tr>\n",
              "  </tbody>\n",
              "</table>\n",
              "</div>\n",
              "      <button class=\"colab-df-convert\" onclick=\"convertToInteractive('df-7884e5b9-270f-4722-98d2-928666f3a6c0')\"\n",
              "              title=\"Convert this dataframe to an interactive table.\"\n",
              "              style=\"display:none;\">\n",
              "        \n",
              "  <svg xmlns=\"http://www.w3.org/2000/svg\" height=\"24px\"viewBox=\"0 0 24 24\"\n",
              "       width=\"24px\">\n",
              "    <path d=\"M0 0h24v24H0V0z\" fill=\"none\"/>\n",
              "    <path d=\"M18.56 5.44l.94 2.06.94-2.06 2.06-.94-2.06-.94-.94-2.06-.94 2.06-2.06.94zm-11 1L8.5 8.5l.94-2.06 2.06-.94-2.06-.94L8.5 2.5l-.94 2.06-2.06.94zm10 10l.94 2.06.94-2.06 2.06-.94-2.06-.94-.94-2.06-.94 2.06-2.06.94z\"/><path d=\"M17.41 7.96l-1.37-1.37c-.4-.4-.92-.59-1.43-.59-.52 0-1.04.2-1.43.59L10.3 9.45l-7.72 7.72c-.78.78-.78 2.05 0 2.83L4 21.41c.39.39.9.59 1.41.59.51 0 1.02-.2 1.41-.59l7.78-7.78 2.81-2.81c.8-.78.8-2.07 0-2.86zM5.41 20L4 18.59l7.72-7.72 1.47 1.35L5.41 20z\"/>\n",
              "  </svg>\n",
              "      </button>\n",
              "      \n",
              "  <style>\n",
              "    .colab-df-container {\n",
              "      display:flex;\n",
              "      flex-wrap:wrap;\n",
              "      gap: 12px;\n",
              "    }\n",
              "\n",
              "    .colab-df-convert {\n",
              "      background-color: #E8F0FE;\n",
              "      border: none;\n",
              "      border-radius: 50%;\n",
              "      cursor: pointer;\n",
              "      display: none;\n",
              "      fill: #1967D2;\n",
              "      height: 32px;\n",
              "      padding: 0 0 0 0;\n",
              "      width: 32px;\n",
              "    }\n",
              "\n",
              "    .colab-df-convert:hover {\n",
              "      background-color: #E2EBFA;\n",
              "      box-shadow: 0px 1px 2px rgba(60, 64, 67, 0.3), 0px 1px 3px 1px rgba(60, 64, 67, 0.15);\n",
              "      fill: #174EA6;\n",
              "    }\n",
              "\n",
              "    [theme=dark] .colab-df-convert {\n",
              "      background-color: #3B4455;\n",
              "      fill: #D2E3FC;\n",
              "    }\n",
              "\n",
              "    [theme=dark] .colab-df-convert:hover {\n",
              "      background-color: #434B5C;\n",
              "      box-shadow: 0px 1px 3px 1px rgba(0, 0, 0, 0.15);\n",
              "      filter: drop-shadow(0px 1px 2px rgba(0, 0, 0, 0.3));\n",
              "      fill: #FFFFFF;\n",
              "    }\n",
              "  </style>\n",
              "\n",
              "      <script>\n",
              "        const buttonEl =\n",
              "          document.querySelector('#df-7884e5b9-270f-4722-98d2-928666f3a6c0 button.colab-df-convert');\n",
              "        buttonEl.style.display =\n",
              "          google.colab.kernel.accessAllowed ? 'block' : 'none';\n",
              "\n",
              "        async function convertToInteractive(key) {\n",
              "          const element = document.querySelector('#df-7884e5b9-270f-4722-98d2-928666f3a6c0');\n",
              "          const dataTable =\n",
              "            await google.colab.kernel.invokeFunction('convertToInteractive',\n",
              "                                                     [key], {});\n",
              "          if (!dataTable) return;\n",
              "\n",
              "          const docLinkHtml = 'Like what you see? Visit the ' +\n",
              "            '<a target=\"_blank\" href=https://colab.research.google.com/notebooks/data_table.ipynb>data table notebook</a>'\n",
              "            + ' to learn more about interactive tables.';\n",
              "          element.innerHTML = '';\n",
              "          dataTable['output_type'] = 'display_data';\n",
              "          await google.colab.output.renderOutput(dataTable, element);\n",
              "          const docLink = document.createElement('div');\n",
              "          docLink.innerHTML = docLinkHtml;\n",
              "          element.appendChild(docLink);\n",
              "        }\n",
              "      </script>\n",
              "    </div>\n",
              "  </div>\n",
              "  "
            ]
          },
          "metadata": {},
          "execution_count": 49
        }
      ],
      "source": [
        "drive.mount ('/content/drive')\n",
        "%cd'/content/drive/MyDrive/'\n",
        "df = pd.read_csv('athlete_events.csv')\n",
        "df.head()"
      ]
    },
    {
      "cell_type": "markdown",
      "source": [
        "Aprèn a realitzar test d'hipòtesis amb Python.\n",
        "# Nivell 1\n",
        "## Exercici 1\n",
        "**Agafa un conjunt de dades de tema esportiu que t'agradi i selecciona un atribut del conjunt de dades. Calcula el p-valor i digues si rebutja la hipòtesi nul·la agafant un alfa de 5%.**"
      ],
      "metadata": {
        "id": "OxDi-BFVbBA-"
      }
    },
    {
      "cell_type": "markdown",
      "source": [
        "En aquest DataFrame podem veure que, com que un mateix atleta es pot presentar a més d'una modalitat, aquest pot aparèixer més d'una vegada, i com que en aquest samplejat voldrem mirar quines son les característiques físiques mitjanes dels atletes, eliminarem tots els atletes repetits per tal d'evitar informació duplicada.\n",
        "Evidentment també descartarem la variable 'Event' ja que deixaría de tenir sentit si ens quedem només amb una modalitat de cada atleta.\n",
        "També descartarem les variables 'NOC' i 'Games' perquè repeteixen informació d'altres variables.\n",
        "\n",
        "Les variables amb les que ens quedarem seràn les següents:\n",
        "\n",
        "* ID: identificador únic de cada atleta\n",
        "* Name: nom de l'atleta\n",
        "* Sex: gènere de l'atleta\n",
        "* Age: edat de l'atleta\n",
        "* Height: altura de l'atleta (cm)\n",
        "* Weight: pes de l'atleta (Kg)\n",
        "* Team: país que representa l'atleta\n",
        "* Year: any en el que va participar\n",
        "* Season: estació de l'any en la que va participar\n",
        "* City: ciutat en la que es van celebrar els jocs\n",
        "* Sport: esport que practica l'atleta\n",
        "* Medal: medalla que ha guanyat l'atleta"
      ],
      "metadata": {
        "id": "kCI-hFh9v7JP"
      }
    },
    {
      "cell_type": "code",
      "source": [
        "df = df.drop_duplicates(subset='ID', keep='first')"
      ],
      "metadata": {
        "id": "wVAJs3gXv6Ro"
      },
      "execution_count": null,
      "outputs": []
    },
    {
      "cell_type": "code",
      "source": [
        "df = df.drop(columns=['Event','NOC', 'Games'])"
      ],
      "metadata": {
        "id": "5TGgxa-7wYER"
      },
      "execution_count": null,
      "outputs": []
    },
    {
      "cell_type": "markdown",
      "source": [
        "Veiem que hi ha una considerable quantitat d'atletes dels quals no sabem l'edat, l'altura ni el pes, així que per desgràcia ens hem de desfer d'aquests atletes ja que precisament són les variables que ens interessen."
      ],
      "metadata": {
        "id": "9RYIWQssxUEH"
      }
    },
    {
      "cell_type": "code",
      "source": [
        "df = df.dropna(subset=['Height', 'Weight', 'Age'])\n",
        "df"
      ],
      "metadata": {
        "id": "RKKMTCKtFgZH",
        "colab": {
          "base_uri": "https://localhost:8080/",
          "height": 466
        },
        "outputId": "810b56ee-025c-4c18-fc48-e94ff436fac0"
      },
      "execution_count": null,
      "outputs": [
        {
          "output_type": "execute_result",
          "data": {
            "text/plain": [
              "            ID                          Name Sex   Age  Height  Weight  \\\n",
              "0            1                     A Dijiang   M  24.0   180.0    80.0   \n",
              "1            2                      A Lamusi   M  23.0   170.0    60.0   \n",
              "4            5      Christine Jacoba Aaftink   F  21.0   185.0    82.0   \n",
              "10           6               Per Knut Aaland   M  31.0   188.0    75.0   \n",
              "18           7                  John Aalberg   M  31.0   183.0    72.0   \n",
              "...        ...                           ...  ..   ...     ...     ...   \n",
              "271108  135567  Aleksandr Viktorovich Zyuzin   M  24.0   183.0    72.0   \n",
              "271110  135568        Olga Igorevna Zyuzkova   F  33.0   171.0    69.0   \n",
              "271111  135569                    Andrzej ya   M  29.0   179.0    89.0   \n",
              "271112  135570                      Piotr ya   M  27.0   176.0    59.0   \n",
              "271114  135571            Tomasz Ireneusz ya   M  30.0   185.0    96.0   \n",
              "\n",
              "                 Team  Year  Season            City                 Sport  \\\n",
              "0               China  1992  Summer       Barcelona            Basketball   \n",
              "1               China  2012  Summer          London                  Judo   \n",
              "4         Netherlands  1988  Winter         Calgary         Speed Skating   \n",
              "10      United States  1992  Winter     Albertville  Cross Country Skiing   \n",
              "18      United States  1992  Winter     Albertville  Cross Country Skiing   \n",
              "...               ...   ...     ...             ...                   ...   \n",
              "271108         Russia  2000  Summer          Sydney                Rowing   \n",
              "271110        Belarus  2016  Summer  Rio de Janeiro            Basketball   \n",
              "271111       Poland-1  1976  Winter       Innsbruck                  Luge   \n",
              "271112         Poland  2014  Winter           Sochi           Ski Jumping   \n",
              "271114         Poland  1998  Winter          Nagano             Bobsleigh   \n",
              "\n",
              "       Medal  \n",
              "0        NaN  \n",
              "1        NaN  \n",
              "4        NaN  \n",
              "10       NaN  \n",
              "18       NaN  \n",
              "...      ...  \n",
              "271108   NaN  \n",
              "271110   NaN  \n",
              "271111   NaN  \n",
              "271112   NaN  \n",
              "271114   NaN  \n",
              "\n",
              "[99088 rows x 12 columns]"
            ],
            "text/html": [
              "\n",
              "  <div id=\"df-2397509b-26ab-4692-a5cb-cee8ea142adb\">\n",
              "    <div class=\"colab-df-container\">\n",
              "      <div>\n",
              "<style scoped>\n",
              "    .dataframe tbody tr th:only-of-type {\n",
              "        vertical-align: middle;\n",
              "    }\n",
              "\n",
              "    .dataframe tbody tr th {\n",
              "        vertical-align: top;\n",
              "    }\n",
              "\n",
              "    .dataframe thead th {\n",
              "        text-align: right;\n",
              "    }\n",
              "</style>\n",
              "<table border=\"1\" class=\"dataframe\">\n",
              "  <thead>\n",
              "    <tr style=\"text-align: right;\">\n",
              "      <th></th>\n",
              "      <th>ID</th>\n",
              "      <th>Name</th>\n",
              "      <th>Sex</th>\n",
              "      <th>Age</th>\n",
              "      <th>Height</th>\n",
              "      <th>Weight</th>\n",
              "      <th>Team</th>\n",
              "      <th>Year</th>\n",
              "      <th>Season</th>\n",
              "      <th>City</th>\n",
              "      <th>Sport</th>\n",
              "      <th>Medal</th>\n",
              "    </tr>\n",
              "  </thead>\n",
              "  <tbody>\n",
              "    <tr>\n",
              "      <th>0</th>\n",
              "      <td>1</td>\n",
              "      <td>A Dijiang</td>\n",
              "      <td>M</td>\n",
              "      <td>24.0</td>\n",
              "      <td>180.0</td>\n",
              "      <td>80.0</td>\n",
              "      <td>China</td>\n",
              "      <td>1992</td>\n",
              "      <td>Summer</td>\n",
              "      <td>Barcelona</td>\n",
              "      <td>Basketball</td>\n",
              "      <td>NaN</td>\n",
              "    </tr>\n",
              "    <tr>\n",
              "      <th>1</th>\n",
              "      <td>2</td>\n",
              "      <td>A Lamusi</td>\n",
              "      <td>M</td>\n",
              "      <td>23.0</td>\n",
              "      <td>170.0</td>\n",
              "      <td>60.0</td>\n",
              "      <td>China</td>\n",
              "      <td>2012</td>\n",
              "      <td>Summer</td>\n",
              "      <td>London</td>\n",
              "      <td>Judo</td>\n",
              "      <td>NaN</td>\n",
              "    </tr>\n",
              "    <tr>\n",
              "      <th>4</th>\n",
              "      <td>5</td>\n",
              "      <td>Christine Jacoba Aaftink</td>\n",
              "      <td>F</td>\n",
              "      <td>21.0</td>\n",
              "      <td>185.0</td>\n",
              "      <td>82.0</td>\n",
              "      <td>Netherlands</td>\n",
              "      <td>1988</td>\n",
              "      <td>Winter</td>\n",
              "      <td>Calgary</td>\n",
              "      <td>Speed Skating</td>\n",
              "      <td>NaN</td>\n",
              "    </tr>\n",
              "    <tr>\n",
              "      <th>10</th>\n",
              "      <td>6</td>\n",
              "      <td>Per Knut Aaland</td>\n",
              "      <td>M</td>\n",
              "      <td>31.0</td>\n",
              "      <td>188.0</td>\n",
              "      <td>75.0</td>\n",
              "      <td>United States</td>\n",
              "      <td>1992</td>\n",
              "      <td>Winter</td>\n",
              "      <td>Albertville</td>\n",
              "      <td>Cross Country Skiing</td>\n",
              "      <td>NaN</td>\n",
              "    </tr>\n",
              "    <tr>\n",
              "      <th>18</th>\n",
              "      <td>7</td>\n",
              "      <td>John Aalberg</td>\n",
              "      <td>M</td>\n",
              "      <td>31.0</td>\n",
              "      <td>183.0</td>\n",
              "      <td>72.0</td>\n",
              "      <td>United States</td>\n",
              "      <td>1992</td>\n",
              "      <td>Winter</td>\n",
              "      <td>Albertville</td>\n",
              "      <td>Cross Country Skiing</td>\n",
              "      <td>NaN</td>\n",
              "    </tr>\n",
              "    <tr>\n",
              "      <th>...</th>\n",
              "      <td>...</td>\n",
              "      <td>...</td>\n",
              "      <td>...</td>\n",
              "      <td>...</td>\n",
              "      <td>...</td>\n",
              "      <td>...</td>\n",
              "      <td>...</td>\n",
              "      <td>...</td>\n",
              "      <td>...</td>\n",
              "      <td>...</td>\n",
              "      <td>...</td>\n",
              "      <td>...</td>\n",
              "    </tr>\n",
              "    <tr>\n",
              "      <th>271108</th>\n",
              "      <td>135567</td>\n",
              "      <td>Aleksandr Viktorovich Zyuzin</td>\n",
              "      <td>M</td>\n",
              "      <td>24.0</td>\n",
              "      <td>183.0</td>\n",
              "      <td>72.0</td>\n",
              "      <td>Russia</td>\n",
              "      <td>2000</td>\n",
              "      <td>Summer</td>\n",
              "      <td>Sydney</td>\n",
              "      <td>Rowing</td>\n",
              "      <td>NaN</td>\n",
              "    </tr>\n",
              "    <tr>\n",
              "      <th>271110</th>\n",
              "      <td>135568</td>\n",
              "      <td>Olga Igorevna Zyuzkova</td>\n",
              "      <td>F</td>\n",
              "      <td>33.0</td>\n",
              "      <td>171.0</td>\n",
              "      <td>69.0</td>\n",
              "      <td>Belarus</td>\n",
              "      <td>2016</td>\n",
              "      <td>Summer</td>\n",
              "      <td>Rio de Janeiro</td>\n",
              "      <td>Basketball</td>\n",
              "      <td>NaN</td>\n",
              "    </tr>\n",
              "    <tr>\n",
              "      <th>271111</th>\n",
              "      <td>135569</td>\n",
              "      <td>Andrzej ya</td>\n",
              "      <td>M</td>\n",
              "      <td>29.0</td>\n",
              "      <td>179.0</td>\n",
              "      <td>89.0</td>\n",
              "      <td>Poland-1</td>\n",
              "      <td>1976</td>\n",
              "      <td>Winter</td>\n",
              "      <td>Innsbruck</td>\n",
              "      <td>Luge</td>\n",
              "      <td>NaN</td>\n",
              "    </tr>\n",
              "    <tr>\n",
              "      <th>271112</th>\n",
              "      <td>135570</td>\n",
              "      <td>Piotr ya</td>\n",
              "      <td>M</td>\n",
              "      <td>27.0</td>\n",
              "      <td>176.0</td>\n",
              "      <td>59.0</td>\n",
              "      <td>Poland</td>\n",
              "      <td>2014</td>\n",
              "      <td>Winter</td>\n",
              "      <td>Sochi</td>\n",
              "      <td>Ski Jumping</td>\n",
              "      <td>NaN</td>\n",
              "    </tr>\n",
              "    <tr>\n",
              "      <th>271114</th>\n",
              "      <td>135571</td>\n",
              "      <td>Tomasz Ireneusz ya</td>\n",
              "      <td>M</td>\n",
              "      <td>30.0</td>\n",
              "      <td>185.0</td>\n",
              "      <td>96.0</td>\n",
              "      <td>Poland</td>\n",
              "      <td>1998</td>\n",
              "      <td>Winter</td>\n",
              "      <td>Nagano</td>\n",
              "      <td>Bobsleigh</td>\n",
              "      <td>NaN</td>\n",
              "    </tr>\n",
              "  </tbody>\n",
              "</table>\n",
              "<p>99088 rows × 12 columns</p>\n",
              "</div>\n",
              "      <button class=\"colab-df-convert\" onclick=\"convertToInteractive('df-2397509b-26ab-4692-a5cb-cee8ea142adb')\"\n",
              "              title=\"Convert this dataframe to an interactive table.\"\n",
              "              style=\"display:none;\">\n",
              "        \n",
              "  <svg xmlns=\"http://www.w3.org/2000/svg\" height=\"24px\"viewBox=\"0 0 24 24\"\n",
              "       width=\"24px\">\n",
              "    <path d=\"M0 0h24v24H0V0z\" fill=\"none\"/>\n",
              "    <path d=\"M18.56 5.44l.94 2.06.94-2.06 2.06-.94-2.06-.94-.94-2.06-.94 2.06-2.06.94zm-11 1L8.5 8.5l.94-2.06 2.06-.94-2.06-.94L8.5 2.5l-.94 2.06-2.06.94zm10 10l.94 2.06.94-2.06 2.06-.94-2.06-.94-.94-2.06-.94 2.06-2.06.94z\"/><path d=\"M17.41 7.96l-1.37-1.37c-.4-.4-.92-.59-1.43-.59-.52 0-1.04.2-1.43.59L10.3 9.45l-7.72 7.72c-.78.78-.78 2.05 0 2.83L4 21.41c.39.39.9.59 1.41.59.51 0 1.02-.2 1.41-.59l7.78-7.78 2.81-2.81c.8-.78.8-2.07 0-2.86zM5.41 20L4 18.59l7.72-7.72 1.47 1.35L5.41 20z\"/>\n",
              "  </svg>\n",
              "      </button>\n",
              "      \n",
              "  <style>\n",
              "    .colab-df-container {\n",
              "      display:flex;\n",
              "      flex-wrap:wrap;\n",
              "      gap: 12px;\n",
              "    }\n",
              "\n",
              "    .colab-df-convert {\n",
              "      background-color: #E8F0FE;\n",
              "      border: none;\n",
              "      border-radius: 50%;\n",
              "      cursor: pointer;\n",
              "      display: none;\n",
              "      fill: #1967D2;\n",
              "      height: 32px;\n",
              "      padding: 0 0 0 0;\n",
              "      width: 32px;\n",
              "    }\n",
              "\n",
              "    .colab-df-convert:hover {\n",
              "      background-color: #E2EBFA;\n",
              "      box-shadow: 0px 1px 2px rgba(60, 64, 67, 0.3), 0px 1px 3px 1px rgba(60, 64, 67, 0.15);\n",
              "      fill: #174EA6;\n",
              "    }\n",
              "\n",
              "    [theme=dark] .colab-df-convert {\n",
              "      background-color: #3B4455;\n",
              "      fill: #D2E3FC;\n",
              "    }\n",
              "\n",
              "    [theme=dark] .colab-df-convert:hover {\n",
              "      background-color: #434B5C;\n",
              "      box-shadow: 0px 1px 3px 1px rgba(0, 0, 0, 0.15);\n",
              "      filter: drop-shadow(0px 1px 2px rgba(0, 0, 0, 0.3));\n",
              "      fill: #FFFFFF;\n",
              "    }\n",
              "  </style>\n",
              "\n",
              "      <script>\n",
              "        const buttonEl =\n",
              "          document.querySelector('#df-2397509b-26ab-4692-a5cb-cee8ea142adb button.colab-df-convert');\n",
              "        buttonEl.style.display =\n",
              "          google.colab.kernel.accessAllowed ? 'block' : 'none';\n",
              "\n",
              "        async function convertToInteractive(key) {\n",
              "          const element = document.querySelector('#df-2397509b-26ab-4692-a5cb-cee8ea142adb');\n",
              "          const dataTable =\n",
              "            await google.colab.kernel.invokeFunction('convertToInteractive',\n",
              "                                                     [key], {});\n",
              "          if (!dataTable) return;\n",
              "\n",
              "          const docLinkHtml = 'Like what you see? Visit the ' +\n",
              "            '<a target=\"_blank\" href=https://colab.research.google.com/notebooks/data_table.ipynb>data table notebook</a>'\n",
              "            + ' to learn more about interactive tables.';\n",
              "          element.innerHTML = '';\n",
              "          dataTable['output_type'] = 'display_data';\n",
              "          await google.colab.output.renderOutput(dataTable, element);\n",
              "          const docLink = document.createElement('div');\n",
              "          docLink.innerHTML = docLinkHtml;\n",
              "          element.appendChild(docLink);\n",
              "        }\n",
              "      </script>\n",
              "    </div>\n",
              "  </div>\n",
              "  "
            ]
          },
          "metadata": {},
          "execution_count": 6
        }
      ]
    },
    {
      "cell_type": "markdown",
      "source": [
        "Volem tesetejar si l'altura mitjana dels atletes de bàsquet és superior a la mitjana de la resta de jugadors.\n",
        "\n",
        "Declarem la nostra hipòtesis:\n",
        "* H0: L'altura mitja dels jugadors de bàsquet és igual a la altura mitjana dels jugadors de la resta d'esports.\n",
        "* H1: L'altura mitja dels jugadors de bàsquet no és igual a la altura mitjana dels jugadors de la resta d'esports."
      ],
      "metadata": {
        "id": "V_givKc-R2jf"
      }
    },
    {
      "cell_type": "markdown",
      "source": [
        "Creem dos subgrup de tots els jugadors de bàsquet i un altre de tots els jugadors que no juguen a bàsquet. Agafem 1000 mostres de cada una."
      ],
      "metadata": {
        "id": "sI7je-tvywAQ"
      }
    },
    {
      "cell_type": "code",
      "source": [
        "# Bàsquet\n",
        "dfBasquet = df[df['Sport'] == 'Basketball'].sample(1000)"
      ],
      "metadata": {
        "id": "UT149C5RTyUk"
      },
      "execution_count": null,
      "outputs": []
    },
    {
      "cell_type": "code",
      "source": [
        "# Resta d'atletes\n",
        "dfRest = df[df['Sport'] != 'Basketball'].sample(1000)"
      ],
      "metadata": {
        "id": "We5ylpgWUhmi",
        "colab": {
          "base_uri": "https://localhost:8080/"
        },
        "outputId": "e8e90dad-f118-4951-a595-fe0d5fafe69a"
      },
      "execution_count": null,
      "outputs": [
        {
          "output_type": "execute_result",
          "data": {
            "text/plain": [
              "(1000, 12)"
            ]
          },
          "metadata": {},
          "execution_count": 13
        }
      ]
    },
    {
      "cell_type": "code",
      "source": [
        "sns.kdeplot(dfBasquet['Height'], fill = True)"
      ],
      "metadata": {
        "colab": {
          "base_uri": "https://localhost:8080/",
          "height": 297
        },
        "id": "7lJDA_u-0aDr",
        "outputId": "1d242969-d33d-4d99-f8ef-8b5eb3ad11b3"
      },
      "execution_count": null,
      "outputs": [
        {
          "output_type": "execute_result",
          "data": {
            "text/plain": [
              "<matplotlib.axes._subplots.AxesSubplot at 0x7f6fb1ea1290>"
            ]
          },
          "metadata": {},
          "execution_count": 20
        },
        {
          "output_type": "display_data",
          "data": {
            "text/plain": [
              "<Figure size 432x288 with 1 Axes>"
            ],
            "image/png": "[encoded data removed]"
          },
          "metadata": {
            "needs_background": "light"
          }
        }
      ]
    },
    {
      "cell_type": "markdown",
      "source": [
        "Veiem en la gràfica de adalt que els jugadors de bàsquet tenen una distibució normal, per tant escollirem un test d'hipòtesis paramètric."
      ],
      "metadata": {
        "id": "3Ft0CPZTzvWC"
      }
    },
    {
      "cell_type": "code",
      "source": [
        "# Utilitzem el t-test de student\n",
        "from scipy.stats import ttest_ind\n",
        "stat, p = ttest_ind(dfBasquet['Height'], dfRest['Height'])\n",
        "print('p-value= %.3f' % p)\n",
        "if p > 0.05:\n",
        "\tprint('Probablement tenen la mateixa distribució')\n",
        "else:\n",
        "\tprint('Probablement tenen diferent distribució')"
      ],
      "metadata": {
        "id": "LeovSdKdU_Ya",
        "colab": {
          "base_uri": "https://localhost:8080/"
        },
        "outputId": "5cc25581-206a-4a59-8845-3920e925d28f"
      },
      "execution_count": null,
      "outputs": [
        {
          "output_type": "stream",
          "name": "stdout",
          "text": [
            "p-value= 0.000\n",
            "Probablement tenen diferent distribució\n"
          ]
        }
      ]
    },
    {
      "cell_type": "markdown",
      "source": [
        "Grafiquem les dues gràfiques a veiem si te sentit amb el test d'hipòtesis anterior."
      ],
      "metadata": {
        "id": "sQTs67Xcgstp"
      }
    },
    {
      "cell_type": "code",
      "source": [
        "plt.figure(figsize=(15,10))\n",
        "sns.kdeplot(dfBasquet['Height'], label='Altura mitjana de Bâsquet',fill = True)\n",
        "sns.kdeplot(dfRest['Height'], label='Altura mitjana de la resta',fill = True, color='orange')\n",
        "plt.axvline(x=dfBasquet['Height'].mean())\n",
        "plt.axvline(x=dfRest['Height'].mean(), color='orange')\n",
        "plt.legend()\n",
        "plt.show()"
      ],
      "metadata": {
        "id": "I2lqU0tYZmpp",
        "colab": {
          "base_uri": "https://localhost:8080/",
          "height": 606
        },
        "outputId": "3792d116-8e2c-41b5-c016-8b6a73dfa3b9"
      },
      "execution_count": null,
      "outputs": [
        {
          "output_type": "display_data",
          "data": {
            "text/plain": [
              "<Figure size 1080x720 with 1 Axes>"
            ],
            "image/png": "[encoded data removed]"
          },
          "metadata": {
            "needs_background": "light"
          }
        }
      ]
    },
    {
      "cell_type": "markdown",
      "source": [
        "Veiem que efectivament no tenen una mitjana semblant i, per tant, no tenen una distribució similar."
      ],
      "metadata": {
        "id": "Ebt_wQxeG0YI"
      }
    },
    {
      "cell_type": "markdown",
      "source": [
        "# Nivell 2\n",
        "## Exercici 2\n",
        "**Continua amb el conjunt de dades de tema esportiu que t'agradi i selecciona dos altres atributs del conjunt de dades. Calcula els p-valors i digues si rebutgen la hipòtesi nul·la agafant un alfa de 5%.**"
      ],
      "metadata": {
        "id": "j8FfuuDBbNU-"
      }
    },
    {
      "cell_type": "markdown",
      "source": [
        "En aquest cas el nostre test d'hipòtesis consistirà en veure si existeix una correlació entre la altura i l'edat dels atletes.\n",
        "\n",
        "* H0: La altura i l'edat no estàn correlacionades\n",
        "* H1: La altura i l'edat estàn correlacionades"
      ],
      "metadata": {
        "id": "1SFKsU1Czefm"
      }
    },
    {
      "cell_type": "code",
      "source": [
        "dfsample = df.sample(500)"
      ],
      "metadata": {
        "id": "ON2mICMdxFHj"
      },
      "execution_count": null,
      "outputs": []
    },
    {
      "cell_type": "code",
      "source": [
        "#En aquest cas utilitzarem el test de Pearson\n",
        "from scipy.stats import pearsonr\n",
        "stat, p = pearsonr(dfsample['Age'], dfsample['Height'])\n",
        "print('stat=%.3f, p-value= %.3f' % (stat, p))\n",
        "if p > 0.05:\n",
        "\tprint('Probablement independent')\n",
        "else:\n",
        "\tprint('Probablement dependent')"
      ],
      "metadata": {
        "id": "C913DU_71ElH",
        "colab": {
          "base_uri": "https://localhost:8080/"
        },
        "outputId": "e69ac8df-9fc5-495b-c79e-de35158ce0ca"
      },
      "execution_count": null,
      "outputs": [
        {
          "output_type": "stream",
          "name": "stdout",
          "text": [
            "stat=0.054, p-value= 0.227\n",
            "Probablement independent\n"
          ]
        }
      ]
    },
    {
      "cell_type": "markdown",
      "source": [
        "Com que p-value > 0.05, ens quedem amb l'hipòtesis nula i per tant diem que és probable que l'edat i l'altura siguin dues variables independents.\n",
        "\n",
        "Si ho comparem amb la correlació veiem que encaixa amb els resultats anteriors."
      ],
      "metadata": {
        "id": "g8t2UZUR9avV"
      }
    },
    {
      "cell_type": "code",
      "source": [
        "sns.scatterplot(dfsample['Age'], dfsample['Height'])"
      ],
      "metadata": {
        "colab": {
          "base_uri": "https://localhost:8080/",
          "height": 354
        },
        "id": "eJo67j12HKiA",
        "outputId": "b205d4ba-beb7-4303-930a-33edd6e866c2"
      },
      "execution_count": null,
      "outputs": [
        {
          "output_type": "stream",
          "name": "stderr",
          "text": [
            "/usr/local/lib/python3.7/dist-packages/seaborn/_decorators.py:43: FutureWarning: Pass the following variables as keyword args: x, y. From version 0.12, the only valid positional argument will be `data`, and passing other arguments without an explicit keyword will result in an error or misinterpretation.\n",
            "  FutureWarning\n"
          ]
        },
        {
          "output_type": "execute_result",
          "data": {
            "text/plain": [
              "<matplotlib.axes._subplots.AxesSubplot at 0x7f6fb1b54c90>"
            ]
          },
          "metadata": {},
          "execution_count": 46
        },
        {
          "output_type": "display_data",
          "data": {
            "text/plain": [
              "<Figure size 432x288 with 1 Axes>"
            ],
            "image/png": "[encoded data removed]"
          },
          "metadata": {
            "needs_background": "light"
          }
        }
      ]
    },
    {
      "cell_type": "markdown",
      "source": [
        "Farem una altre test amb altres variables i amb un altre test d'hipòtesis de correlació. En quest cas ho farem amb la altura i el pes.\n",
        "\n",
        "* H0: La altura i el pes no estàn correlacionades\n",
        "* H1: La altura i el pes estàn correlacionades"
      ],
      "metadata": {
        "id": "ytEp_MtFBXmy"
      }
    },
    {
      "cell_type": "code",
      "source": [
        "# En aquest cas utilitzarem el test de spearman\n",
        "from scipy.stats import spearmanr\n",
        "stat, p = spearmanr(dfsample['Height'], dfsample['Weight'])\n",
        "print('stat=%.3f, p=%.3f' % (stat, p))\n",
        "if p > 0.05:\n",
        "\tprint('Independent')\n",
        "else:\n",
        "\tprint('Dependent')"
      ],
      "metadata": {
        "id": "bwfQqxHBozX9",
        "colab": {
          "base_uri": "https://localhost:8080/"
        },
        "outputId": "1c864176-956a-4be5-d74e-316132399938"
      },
      "execution_count": null,
      "outputs": [
        {
          "output_type": "stream",
          "name": "stdout",
          "text": [
            "stat=0.810, p=0.000\n",
            "Dependent\n"
          ]
        }
      ]
    },
    {
      "cell_type": "markdown",
      "source": [
        "Com que p-value < 0.05, ens quedem amb l'hipòtesis alternativa i per tant diem que és probable que l'edat i l'altura siguin dues variables dependents.\n",
        "\n",
        "Si ho comparem amb la correlació veiem que també encaixa amb els resultats anteriors."
      ],
      "metadata": {
        "id": "aw1OA55PC-qB"
      }
    },
    {
      "cell_type": "code",
      "source": [
        "sns.scatterplot(dfsample['Weight'], dfsample['Height'])"
      ],
      "metadata": {
        "colab": {
          "base_uri": "https://localhost:8080/",
          "height": 354
        },
        "id": "uGnQW8tUHZJQ",
        "outputId": "84b5eae4-aea3-4409-a992-565796389877"
      },
      "execution_count": null,
      "outputs": [
        {
          "output_type": "stream",
          "name": "stderr",
          "text": [
            "/usr/local/lib/python3.7/dist-packages/seaborn/_decorators.py:43: FutureWarning: Pass the following variables as keyword args: x, y. From version 0.12, the only valid positional argument will be `data`, and passing other arguments without an explicit keyword will result in an error or misinterpretation.\n",
            "  FutureWarning\n"
          ]
        },
        {
          "output_type": "execute_result",
          "data": {
            "text/plain": [
              "<matplotlib.axes._subplots.AxesSubplot at 0x7f6fb1aabbd0>"
            ]
          },
          "metadata": {},
          "execution_count": 48
        },
        {
          "output_type": "display_data",
          "data": {
            "text/plain": [
              "<Figure size 432x288 with 1 Axes>"
            ],
            "image/png": "[encoded data removed]"
          },
          "metadata": {
            "needs_background": "light"
          }
        }
      ]
    },
    {
      "cell_type": "markdown",
      "source": [
        "# Nivell 3\n",
        "## Exercici 3\n",
        "**Continua amb el conjunt de dades de tema esportiu que t'agradi i selecciona tres atributs del conjunt de dades. Calcula el p-valor i digues si rebutja la hipòtesi nul·la agafant un alfa de 5%.**"
      ],
      "metadata": {
        "id": "vfWcMtXsbVY6"
      }
    },
    {
      "cell_type": "code",
      "source": [
        "df['Medal'].unique()"
      ],
      "metadata": {
        "id": "OnPupZksbY66",
        "colab": {
          "base_uri": "https://localhost:8080/"
        },
        "outputId": "8314a4af-625f-4718-8745-4bf54c6b6cc3"
      },
      "execution_count": null,
      "outputs": [
        {
          "output_type": "execute_result",
          "data": {
            "text/plain": [
              "array([nan, 'Bronze', 'Silver', 'Gold'], dtype=object)"
            ]
          },
          "metadata": {},
          "execution_count": 28
        }
      ]
    },
    {
      "cell_type": "markdown",
      "source": [
        "Per fer aquest exercici, mirarem si la mitjana de l'edat dels atletes que guanyen or, plata o bronze és la mateixa."
      ],
      "metadata": {
        "id": "tCw0jfb2wFM2"
      }
    },
    {
      "cell_type": "markdown",
      "source": [
        "* H0: La mitjana d'edat de les tres medalles és la mateixa.\n",
        "* H1: Com a mínim una de les tres medalles te una mitjana diferent a la resta"
      ],
      "metadata": {
        "id": "eXif5y9M5WnF"
      }
    },
    {
      "cell_type": "code",
      "source": [
        "#Df's d les tres medalles \n",
        "dfOr = df[df['Medal'] == 'Gold'].sample(1000)\n",
        "dfPlata = df[df['Medal'] == 'Silver'].sample(1000)\n",
        "dfBronze = df[df['Medal'] == 'Bronze'].sample(1000)"
      ],
      "metadata": {
        "id": "dQ26a-04racG"
      },
      "execution_count": null,
      "outputs": []
    },
    {
      "cell_type": "code",
      "source": [
        "from scipy.stats import f_oneway\n",
        "stat, p = f_oneway(dfOr['Age'], dfPlata['Age'], dfBronze['Age'])\n",
        "print('stat=%.3f, p=%.3f' % (stat, p))\n",
        "if p > 0.05:\n",
        "\tprint('Probablement tenen la mateixa distribució')\n",
        "else:\n",
        "\tprint('Probablement no tenen la mateixa distribució')"
      ],
      "metadata": {
        "id": "QNhpW37uyL65",
        "colab": {
          "base_uri": "https://localhost:8080/"
        },
        "outputId": "fa20179f-c842-459f-c25d-4adf2bad6573"
      },
      "execution_count": null,
      "outputs": [
        {
          "output_type": "stream",
          "name": "stdout",
          "text": [
            "stat=0.983, p=0.374\n",
            "Probablement tenen la mateixa distribució\n"
          ]
        }
      ]
    },
    {
      "cell_type": "markdown",
      "source": [
        "Com que p-value > 0.05, agafem l'hiòtesis nula i diem que és probable que tinguin la mateixa distribució.\n",
        "\n",
        "A continuació grafiquem els tres grups i ho contrastem amb els resultats obtinguts. "
      ],
      "metadata": {
        "id": "SriD2obsE6Iw"
      }
    },
    {
      "cell_type": "code",
      "source": [
        "plt.figure(figsize=(15,10))\n",
        "sns.kdeplot(dfOr['Age'], label='Edat mitjana de Or',fill = True, color='Yellow')\n",
        "sns.kdeplot(dfPlata['Age'], label='Edat mitjana de Plata',fill = True, color='Grey')\n",
        "sns.kdeplot(dfBronze['Age'], label='Edat mitjana de Bronze',fill = True, color='Brown')\n",
        "plt.legend()\n",
        "plt.show()"
      ],
      "metadata": {
        "id": "cwaO6xXIzwGB",
        "colab": {
          "base_uri": "https://localhost:8080/",
          "height": 606
        },
        "outputId": "3aaa71df-ce0a-45cc-b326-610df5d56a6b"
      },
      "execution_count": null,
      "outputs": [
        {
          "output_type": "display_data",
          "data": {
            "text/plain": [
              "<Figure size 1080x720 with 1 Axes>"
            ],
            "image/png": "[encoded data removed]"
          },
          "metadata": {
            "needs_background": "light"
          }
        }
      ]
    },
    {
      "cell_type": "markdown",
      "source": [
        "Veiem que les tres mitjanes son molt semblants i per tant tenen un distribució similar."
      ],
      "metadata": {
        "id": "DfDVkR5VFqMF"
      }
    }
  ]
}